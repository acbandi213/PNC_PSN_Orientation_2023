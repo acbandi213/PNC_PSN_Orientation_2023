{
  "cells": [
    {
      "cell_type": "markdown",
      "metadata": {
        "id": "QNF5Fr8szdYD"
      },
      "source": [
        "**Install Relevant Packages**"
      ]
    },
    {
      "cell_type": "code",
      "execution_count": null,
      "metadata": {
        "colab": {
          "background_save": true,
          "base_uri": "https://localhost:8080/"
        },
        "id": "d0DpF_tczvFO",
        "outputId": "e12ad6a7-93ab-436e-b163-5825de67a66f"
      },
      "outputs": [
        {
          "name": "stdout",
          "output_type": "stream",
          "text": [
            "Requirement already satisfied: numpy in /usr/local/lib/python3.10/dist-packages (1.23.5)\n",
            "Requirement already satisfied: matplotlib in /usr/local/lib/python3.10/dist-packages (3.7.2)\n",
            "Requirement already satisfied: contourpy>=1.0.1 in /usr/local/lib/python3.10/dist-packages (from matplotlib) (1.1.0)\n",
            "Requirement already satisfied: cycler>=0.10 in /usr/local/lib/python3.10/dist-packages (from matplotlib) (0.11.0)\n",
            "Requirement already satisfied: fonttools>=4.22.0 in /usr/local/lib/python3.10/dist-packages (from matplotlib) (4.42.0)\n",
            "Requirement already satisfied: kiwisolver>=1.0.1 in /usr/local/lib/python3.10/dist-packages (from matplotlib) (1.4.4)\n",
            "Requirement already satisfied: numpy>=1.20 in /usr/local/lib/python3.10/dist-packages (from matplotlib) (1.23.5)\n",
            "Requirement already satisfied: packaging>=20.0 in /usr/local/lib/python3.10/dist-packages (from matplotlib) (23.1)\n",
            "Requirement already satisfied: pillow>=6.2.0 in /usr/local/lib/python3.10/dist-packages (from matplotlib) (9.4.0)\n",
            "Requirement already satisfied: pyparsing<3.1,>=2.3.1 in /usr/local/lib/python3.10/dist-packages (from matplotlib) (3.0.9)\n",
            "Requirement already satisfied: python-dateutil>=2.7 in /usr/local/lib/python3.10/dist-packages (from matplotlib) (2.8.2)\n",
            "Requirement already satisfied: six>=1.5 in /usr/local/lib/python3.10/dist-packages (from python-dateutil>=2.7->matplotlib) (1.16.0)\n",
            "\u001b[31mERROR: Could not find a version that satisfies the requirement itertools (from versions: none)\u001b[0m\u001b[31m\n",
            "\u001b[0m\u001b[31mERROR: No matching distribution found for itertools\u001b[0m\u001b[31m\n",
            "\u001b[0mRequirement already satisfied: mne in /usr/local/lib/python3.10/dist-packages (1.5.0)\n",
            "Requirement already satisfied: numpy>=1.15.4 in /usr/local/lib/python3.10/dist-packages (from mne) (1.23.5)\n",
            "Requirement already satisfied: scipy>=1.6.3 in /usr/local/lib/python3.10/dist-packages (from mne) (1.10.1)\n",
            "Requirement already satisfied: matplotlib>=3.4.0 in /usr/local/lib/python3.10/dist-packages (from mne) (3.7.2)\n",
            "Requirement already satisfied: tqdm in /usr/local/lib/python3.10/dist-packages (from mne) (4.66.1)\n",
            "Requirement already satisfied: pooch>=1.5 in /usr/local/lib/python3.10/dist-packages (from mne) (1.6.0)\n",
            "Requirement already satisfied: decorator in /usr/local/lib/python3.10/dist-packages (from mne) (4.4.2)\n",
            "Requirement already satisfied: packaging in /usr/local/lib/python3.10/dist-packages (from mne) (23.1)\n",
            "Requirement already satisfied: jinja2 in /usr/local/lib/python3.10/dist-packages (from mne) (3.1.2)\n",
            "Requirement already satisfied: contourpy>=1.0.1 in /usr/local/lib/python3.10/dist-packages (from matplotlib>=3.4.0->mne) (1.1.0)\n",
            "Requirement already satisfied: cycler>=0.10 in /usr/local/lib/python3.10/dist-packages (from matplotlib>=3.4.0->mne) (0.11.0)\n",
            "Requirement already satisfied: fonttools>=4.22.0 in /usr/local/lib/python3.10/dist-packages (from matplotlib>=3.4.0->mne) (4.42.0)\n",
            "Requirement already satisfied: kiwisolver>=1.0.1 in /usr/local/lib/python3.10/dist-packages (from matplotlib>=3.4.0->mne) (1.4.4)\n",
            "Requirement already satisfied: pillow>=6.2.0 in /usr/local/lib/python3.10/dist-packages (from matplotlib>=3.4.0->mne) (9.4.0)\n",
            "Requirement already satisfied: pyparsing<3.1,>=2.3.1 in /usr/local/lib/python3.10/dist-packages (from matplotlib>=3.4.0->mne) (3.0.9)\n",
            "Requirement already satisfied: python-dateutil>=2.7 in /usr/local/lib/python3.10/dist-packages (from matplotlib>=3.4.0->mne) (2.8.2)\n",
            "Requirement already satisfied: appdirs>=1.3.0 in /usr/local/lib/python3.10/dist-packages (from pooch>=1.5->mne) (1.4.4)\n",
            "Requirement already satisfied: requests>=2.19.0 in /usr/local/lib/python3.10/dist-packages (from pooch>=1.5->mne) (2.31.0)\n",
            "Requirement already satisfied: MarkupSafe>=2.0 in /usr/local/lib/python3.10/dist-packages (from jinja2->mne) (2.1.3)\n",
            "Requirement already satisfied: six>=1.5 in /usr/local/lib/python3.10/dist-packages (from python-dateutil>=2.7->matplotlib>=3.4.0->mne) (1.16.0)\n",
            "Requirement already satisfied: charset-normalizer<4,>=2 in /usr/local/lib/python3.10/dist-packages (from requests>=2.19.0->pooch>=1.5->mne) (3.2.0)\n",
            "Requirement already satisfied: idna<4,>=2.5 in /usr/local/lib/python3.10/dist-packages (from requests>=2.19.0->pooch>=1.5->mne) (3.4)\n",
            "Requirement already satisfied: urllib3<3,>=1.21.1 in /usr/local/lib/python3.10/dist-packages (from requests>=2.19.0->pooch>=1.5->mne) (2.0.4)\n",
            "Requirement already satisfied: certifi>=2017.4.17 in /usr/local/lib/python3.10/dist-packages (from requests>=2.19.0->pooch>=1.5->mne) (2023.7.22)\n"
          ]
        }
      ],
      "source": [
        "!pip install numpy\n",
        "!pip install --upgrade matplotlib\n",
        "!pip install itertools\n",
        "!pip install mne"
      ]
    },
    {
      "cell_type": "markdown",
      "metadata": {
        "id": "m-9tyCWGyeRm"
      },
      "source": [
        "**Import Relevant Packages**"
      ]
    },
    {
      "cell_type": "code",
      "execution_count": null,
      "metadata": {
        "colab": {
          "background_save": true
        },
        "id": "V97fmntwyYeZ"
      },
      "outputs": [],
      "source": [
        "import numpy as np\n",
        "import matplotlib.pyplot as plt\n",
        "from itertools import compress\n",
        "\n",
        "import mne"
      ]
    },
    {
      "cell_type": "markdown",
      "metadata": {
        "id": "6NNDSY5hysUu"
      },
      "source": [
        "**Load in Your Data**"
      ]
    },
    {
      "cell_type": "code",
      "execution_count": null,
      "metadata": {
        "colab": {
          "background_save": true
        },
        "id": "bBcveqMLyt9b",
        "outputId": "5a52de18-ea03-473e-8a08-e07f7893da8b"
      },
      "outputs": [
        {
          "name": "stdout",
          "output_type": "stream",
          "text": [
            "Using default location ~/mne_data for fnirs_motor...\n",
            "Attempting to create new mne-python configuration file:\n",
            "/root/.mne/mne-python.json\n",
            "Loading /root/mne_data/MNE-fNIRS-motor-data/Participant-1\n"
          ]
        },
        {
          "ename": "RuntimeError",
          "evalue": "ignored",
          "output_type": "error",
          "traceback": [
            "\u001b[0;31m---------------------------------------------------------------------------\u001b[0m",
            "\u001b[0;31mRuntimeError\u001b[0m                              Traceback (most recent call last)",
            "\u001b[0;32m<ipython-input-3-86d6422aca3a>\u001b[0m in \u001b[0;36m<cell line: 6>\u001b[0;34m()\u001b[0m\n\u001b[1;32m      4\u001b[0m \u001b[0;34m\u001b[0m\u001b[0m\n\u001b[1;32m      5\u001b[0m \u001b[0;31m# Load Data\u001b[0m\u001b[0;34m\u001b[0m\u001b[0;34m\u001b[0m\u001b[0m\n\u001b[0;32m----> 6\u001b[0;31m \u001b[0mraw_intensity\u001b[0m \u001b[0;34m=\u001b[0m \u001b[0mmne\u001b[0m\u001b[0;34m.\u001b[0m\u001b[0mio\u001b[0m\u001b[0;34m.\u001b[0m\u001b[0mread_raw_nirx\u001b[0m\u001b[0;34m(\u001b[0m\u001b[0mfnirs_cw_amplitude_dir\u001b[0m\u001b[0;34m,\u001b[0m \u001b[0mverbose\u001b[0m\u001b[0;34m=\u001b[0m\u001b[0;32mTrue\u001b[0m\u001b[0;34m)\u001b[0m\u001b[0;34m\u001b[0m\u001b[0;34m\u001b[0m\u001b[0m\n\u001b[0m\u001b[1;32m      7\u001b[0m \u001b[0mraw_intensity\u001b[0m\u001b[0;34m.\u001b[0m\u001b[0mload_data\u001b[0m\u001b[0;34m(\u001b[0m\u001b[0;34m)\u001b[0m\u001b[0;34m\u001b[0m\u001b[0;34m\u001b[0m\u001b[0m\n",
            "\u001b[0;32m/usr/local/lib/python3.10/dist-packages/mne/io/nirx/nirx.py\u001b[0m in \u001b[0;36mread_raw_nirx\u001b[0;34m(fname, saturated, preload, verbose)\u001b[0m\n\u001b[1;32m     58\u001b[0m     \u001b[0;34m%\u001b[0m\u001b[0;34m(\u001b[0m\u001b[0mnirx_notes\u001b[0m\u001b[0;34m)\u001b[0m\u001b[0ms\u001b[0m\u001b[0;34m\u001b[0m\u001b[0;34m\u001b[0m\u001b[0m\n\u001b[1;32m     59\u001b[0m     \"\"\"\n\u001b[0;32m---> 60\u001b[0;31m     \u001b[0;32mreturn\u001b[0m \u001b[0mRawNIRX\u001b[0m\u001b[0;34m(\u001b[0m\u001b[0mfname\u001b[0m\u001b[0;34m,\u001b[0m \u001b[0msaturated\u001b[0m\u001b[0;34m,\u001b[0m \u001b[0mpreload\u001b[0m\u001b[0;34m,\u001b[0m \u001b[0mverbose\u001b[0m\u001b[0;34m)\u001b[0m\u001b[0;34m\u001b[0m\u001b[0;34m\u001b[0m\u001b[0m\n\u001b[0m\u001b[1;32m     61\u001b[0m \u001b[0;34m\u001b[0m\u001b[0m\n\u001b[1;32m     62\u001b[0m \u001b[0;34m\u001b[0m\u001b[0m\n",
            "\u001b[0;32m<decorator-gen-420>\u001b[0m in \u001b[0;36m__init__\u001b[0;34m(self, fname, saturated, preload, verbose)\u001b[0m\n",
            "\u001b[0;32m/usr/local/lib/python3.10/dist-packages/mne/io/nirx/nirx.py\u001b[0m in \u001b[0;36m__init__\u001b[0;34m(self, fname, saturated, preload, verbose)\u001b[0m\n\u001b[1;32m    151\u001b[0m                 ]\n\u001b[1;32m    152\u001b[0m                 \u001b[0;32mif\u001b[0m \u001b[0mlen\u001b[0m\u001b[0;34m(\u001b[0m\u001b[0mnoidx\u001b[0m\u001b[0;34m)\u001b[0m \u001b[0;34m!=\u001b[0m \u001b[0;36m1\u001b[0m \u001b[0;32mor\u001b[0m \u001b[0mlen\u001b[0m\u001b[0;34m(\u001b[0m\u001b[0mfiles\u001b[0m\u001b[0;34m[\u001b[0m\u001b[0mkey\u001b[0m\u001b[0;34m]\u001b[0m\u001b[0;34m)\u001b[0m \u001b[0;34m!=\u001b[0m \u001b[0;36m2\u001b[0m\u001b[0;34m:\u001b[0m\u001b[0;34m\u001b[0m\u001b[0;34m\u001b[0m\u001b[0m\n\u001b[0;32m--> 153\u001b[0;31m                     raise RuntimeError(\n\u001b[0m\u001b[1;32m    154\u001b[0m                         \u001b[0;34mf\"Need one nosatflags and one standard {key} file, \"\u001b[0m\u001b[0;34m\u001b[0m\u001b[0;34m\u001b[0m\u001b[0m\n\u001b[1;32m    155\u001b[0m                         \u001b[0;34mf\"got {len(files[key])}\"\u001b[0m\u001b[0;34m\u001b[0m\u001b[0;34m\u001b[0m\u001b[0m\n",
            "\u001b[0;31mRuntimeError\u001b[0m: Need one nosatflags and one standard wl2 file, got 0"
          ]
        }
      ],
      "source": [
        "# This is an example motor dataset - put your folder path here!\n",
        "fnirs_data_folder = mne.datasets.fnirs_motor.data_path()\n",
        "fnirs_cw_amplitude_dir = fnirs_data_folder / \"Participant-1\"\n",
        "\n",
        "# Load Data\n",
        "raw_intensity = mne.io.read_raw_nirx(fnirs_cw_amplitude_dir, verbose=True)\n",
        "raw_intensity.load_data()"
      ]
    },
    {
      "cell_type": "markdown",
      "metadata": {
        "id": "i2UL9cpe0eOV"
      },
      "source": [
        "**Add Annotations**"
      ]
    },
    {
      "cell_type": "code",
      "execution_count": null,
      "metadata": {
        "colab": {
          "background_save": true
        },
        "id": "04A9yYto0g6K"
      },
      "outputs": [],
      "source": [
        "raw_intensity.annotations.set_durations(5) # This sets the duration of stimulus (i.e. rock paper scissors time). Adjust as you need!\n",
        "raw_intensity.annotations.rename(\n",
        "    {\"1.0\": \"Control\", \"2.0\": \"Tapping/Left\", \"3.0\": \"Tapping/Right\"}) # Add other annotations here if you have multiple conditions\n",
        "unwanted = np.nonzero(raw_intensity.annotations.description == \"15.0\")\n",
        "raw_intensity.annotations.delete(unwanted)"
      ]
    },
    {
      "cell_type": "markdown",
      "metadata": {
        "id": "9MEMUP_21sQt"
      },
      "source": [
        "**Selecting Appropriate Data Acquisition Channels**"
      ]
    },
    {
      "cell_type": "code",
      "execution_count": null,
      "metadata": {
        "colab": {
          "background_save": true
        },
        "id": "I5kPdL1o1x8s"
      },
      "outputs": [],
      "source": [
        "picks = mne.pick_types(raw_intensity.info, meg=False, fnirs=True)\n",
        "dists = mne.preprocessing.nirs.source_detector_distances(\n",
        "    raw_intensity.info, picks=picks\n",
        ")\n",
        "raw_intensity.pick(picks[dists > 0.01])\n",
        "raw_intensity.plot(\n",
        "    n_channels=len(raw_intensity.ch_names), duration=500, show_scrollbars=False\n",
        ") # this plots the raw data so that we can view it"
      ]
    },
    {
      "cell_type": "markdown",
      "metadata": {
        "id": "2YsSVuB63RPN"
      },
      "source": [
        "**Convert from Raw Intensity to Optical Density**"
      ]
    },
    {
      "cell_type": "code",
      "execution_count": null,
      "metadata": {
        "colab": {
          "background_save": true
        },
        "id": "IwQwg-dO3YPt"
      },
      "outputs": [],
      "source": [
        "raw_od = mne.preprocessing.nirs.optical_density(raw_intensity)\n",
        "raw_od.plot(n_channels=len(raw_od.ch_names), duration=500, show_scrollbars=False)"
      ]
    },
    {
      "cell_type": "markdown",
      "metadata": {
        "id": "nqTIL5xn3a0J"
      },
      "source": [
        "**Evaluate the quality of the data**\n",
        "\n",
        "Here, we would like to remove channels which have a low scalp coupling index (which means they have a low heart rate signal, indicating poor signal to noise ratio). This code automatically removes those channels"
      ]
    },
    {
      "cell_type": "code",
      "execution_count": null,
      "metadata": {
        "colab": {
          "background_save": true
        },
        "id": "ehjitgW63q9s"
      },
      "outputs": [],
      "source": [
        "sci = mne.preprocessing.nirs.scalp_coupling_index(raw_od)\n",
        "fig, ax = plt.subplots()\n",
        "ax.hist(sci)\n",
        "ax.set(xlabel=\"Scalp Coupling Index\", ylabel=\"Count\", xlim=[0, 1])\n",
        "raw_od.info[\"bads\"] = list(compress(raw_od.ch_names, sci < 0.5))\n"
      ]
    },
    {
      "cell_type": "markdown",
      "metadata": {
        "id": "jXGQjEjr7RoV"
      },
      "source": [
        "**Converting from Optical Density to Haemoglobin**"
      ]
    },
    {
      "cell_type": "code",
      "execution_count": null,
      "metadata": {
        "colab": {
          "background_save": true
        },
        "id": "mV1j6Jmu7YT_"
      },
      "outputs": [],
      "source": [
        "raw_haemo = mne.preprocessing.nirs.beer_lambert_law(raw_od, ppf=0.1)\n",
        "raw_haemo.plot(n_channels=len(raw_haemo.ch_names), duration=500, show_scrollbars=False)"
      ]
    },
    {
      "cell_type": "markdown",
      "metadata": {
        "id": "b7W7spOG7bNe"
      },
      "source": [
        "**Removing Heart Rate from the signal**\n",
        "\n",
        "This code will also plot the fourier transforms of the unflitered and filtered signals"
      ]
    },
    {
      "cell_type": "code",
      "execution_count": null,
      "metadata": {
        "colab": {
          "background_save": true
        },
        "id": "Wxf1gXGf7aZV"
      },
      "outputs": [],
      "source": [
        "raw_haemo_unfiltered = raw_haemo.copy()\n",
        "raw_haemo.filter(0.05, 0.7, h_trans_bandwidth=0.2, l_trans_bandwidth=0.02)\n",
        "for when, _raw in dict(Before=raw_haemo_unfiltered, After=raw_haemo).items():\n",
        "    fig = _raw.compute_psd().plot(average=True, picks=\"data\", exclude=\"bads\")\n",
        "    fig.suptitle(f\"{when} filtering\", weight=\"bold\", size=\"x-large\")\n",
        "    fig.subplots_adjust(top=0.88)"
      ]
    },
    {
      "cell_type": "markdown",
      "metadata": {
        "id": "4OHlQCIk7kmT"
      },
      "source": [
        "**Extract epochs (trials)**"
      ]
    },
    {
      "cell_type": "code",
      "execution_count": null,
      "metadata": {
        "colab": {
          "background_save": true
        },
        "id": "ZBNeh0ui7oGc"
      },
      "outputs": [],
      "source": [
        "events, event_dict = mne.events_from_annotations(raw_haemo)\n",
        "\n",
        "# The following lines plot the time location of each events. Use them to double check your annotations!\n",
        "fig = mne.viz.plot_events(events, event_id=event_dict, sfreq=raw_haemo.info[\"sfreq\"])\n",
        "fig.subplots_adjust(right=0.7)  # make room for the legend"
      ]
    },
    {
      "cell_type": "markdown",
      "metadata": {
        "id": "HrjTttcI7tmU"
      },
      "source": [
        "**Reject unreasonable epochs**\n",
        "\n",
        "This code rejects epochs with physiologically unreasonable oxyhemoglobin levels"
      ]
    },
    {
      "cell_type": "code",
      "execution_count": null,
      "metadata": {
        "colab": {
          "background_save": true
        },
        "id": "UbS03vTp8GMi"
      },
      "outputs": [],
      "source": [
        "reject_criteria = dict(hbo=80e-6)\n",
        "tmin, tmax = -2, 15\n",
        "\n",
        "epochs = mne.Epochs(\n",
        "    raw_haemo,\n",
        "    events,\n",
        "    event_id=event_dict,\n",
        "    tmin=tmin,\n",
        "    tmax=tmax,\n",
        "    reject=reject_criteria,\n",
        "    reject_by_annotation=True,\n",
        "    proj=True,\n",
        "    baseline=(-2, 0),\n",
        "    preload=True,\n",
        "    detrend=None,\n",
        "    verbose=True,\n",
        ")\n",
        "epochs.plot_drop_log()"
      ]
    },
    {
      "cell_type": "markdown",
      "metadata": {
        "id": "Uc_Gk7zd8YrY"
      },
      "source": [
        "**Topographically compare two conditions**\n",
        "\n",
        "Use your annotations in epochs[\"My Condition Name\"] to compare two conditions. Ask Ben if you need help on this part!"
      ]
    },
    {
      "cell_type": "code",
      "execution_count": null,
      "metadata": {
        "colab": {
          "background_save": true
        },
        "id": "3vPSESBh8nvm"
      },
      "outputs": [],
      "source": [
        "%matplotlib inline\n",
        "plt.ion()\n",
        "topomap_args = dict(extrapolate=\"local\")\n",
        "\n",
        "# Below, replace \"Tapping\" and \"Control\" with your conditions\n",
        "evoked_dict = {\n",
        "    \"Tapping/HbO\": epochs[\"Tapping\"].average(picks=\"hbo\"),\n",
        "    \"Tapping/HbR\": epochs[\"Tapping\"].average(picks=\"hbr\"),\n",
        "    \"Control/HbO\": epochs[\"Control\"].average(picks=\"hbo\"),\n",
        "    \"Control/HbR\": epochs[\"Control\"].average(picks=\"hbr\"),\n",
        "}\n",
        "for condition in evoked_dict:\n",
        "    evoked_dict[condition].rename_channels(lambda x: x[:-4])\n",
        "\n",
        "evoked_left = epochs[\"Tapping/Left\"].average()\n",
        "evoked_right = epochs[\"Tapping/Right\"].average()\n",
        "\n",
        "fig, axes = plt.subplots(\n",
        "    nrows=2, ncols=4, figsize=(9, 5), gridspec_kw=dict(width_ratios=[1, 1, 1, 0.1])\n",
        ")\n",
        "vlim = (-8, 8)\n",
        "ts = 9.0 # The time at which we would like to plot topographic distribution. You should change this\n",
        "\n",
        "\n",
        "evoked_left.plot_topomap(ch_type=\"hbo\", times=ts, axes=axes[0, 0], vlim=vlim, colorbar=False, **topomap_args)\n",
        "evoked_left.plot_topomap(ch_type=\"hbr\", times=ts, axes=axes[1, 0], vlim=vlim, colorbar=False, **topomap_args)\n",
        "evoked_right.plot_topomap(ch_type=\"hbo\", times=ts, axes=axes[0, 1], vlim=vlim, colorbar=False, **topomap_args)\n",
        "evoked_right.plot_topomap(ch_type=\"hbr\", times=ts, axes=axes[1, 1], vlim=vlim, colorbar=False, **topomap_args)\n",
        "\n",
        "evoked_diff = mne.combine_evoked([evoked_left, evoked_right], weights=[1, -1])\n",
        "\n",
        "evoked_diff.plot_topomap(ch_type=\"hbo\", times=ts, axes=axes[0, 2:], vlim=vlim, colorbar=True, **topomap_args)\n",
        "evoked_diff.plot_topomap(ch_type=\"hbr\", times=ts, axes=axes[1, 2:], vlim=vlim, colorbar=True, **topomap_args)\n",
        "\n",
        "for column, condition in enumerate([\"Tapping Left\", \"Tapping Right\", \"Left-Right\"]):\n",
        "    for row, chroma in enumerate([\"HbO\", \"HbR\"]):\n",
        "        axes[row, column].set_title(\"{}: {}\".format(chroma, condition))\n",
        "fig.tight_layout()\n",
        "plt.show()"
      ]
    },
    {
      "cell_type": "markdown",
      "metadata": {
        "id": "BBT-txKT9DSP"
      },
      "source": [
        "**Plot Channel activity and block average for one condition (or more if you want!)**"
      ]
    },
    {
      "cell_type": "code",
      "execution_count": null,
      "metadata": {
        "colab": {
          "background_save": true
        },
        "id": "hvd0XvTU9Nzy"
      },
      "outputs": [],
      "source": [
        "epochs[\"Right\"].plot_image(\n",
        "    combine=\"mean\",\n",
        "    vmin=-30,\n",
        "    vmax=30,\n",
        "    ts_args=dict(ylim=dict(hbo=[-15, 15], hbr=[-15, 15])),\n",
        ")"
      ]
    },
    {
      "cell_type": "markdown",
      "metadata": {
        "id": "abrZVrX-9bwY"
      },
      "source": [
        "**Extract data to a csv file so you can manipulate it on your own**"
      ]
    },
    {
      "cell_type": "code",
      "execution_count": null,
      "metadata": {
        "colab": {
          "background_save": true
        },
        "id": "KwRmtq5C9j-3"
      },
      "outputs": [],
      "source": [
        "by_condition_data_this_subject = epochs.to_data_frame()\n",
        "by_condition_data_this_subject.to_csv(\"This Subject Data.csv\")"
      ]
    }
  ],
  "metadata": {
    "colab": {
      "provenance": []
    },
    "kernelspec": {
      "display_name": "Python 3",
      "name": "python3"
    },
    "language_info": {
      "name": "python"
    }
  },
  "nbformat": 4,
  "nbformat_minor": 0
}