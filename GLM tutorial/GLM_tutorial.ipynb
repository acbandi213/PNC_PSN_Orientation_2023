{
 "cells": [
  {
   "cell_type": "code",
   "execution_count": 1,
   "metadata": {},
   "outputs": [
    {
     "name": "stderr",
     "output_type": "stream",
     "text": [
      "2023-08-18 09:45:02.150086: I tensorflow/core/platform/cpu_feature_guard.cc:193] This TensorFlow binary is optimized with oneAPI Deep Neural Network Library (oneDNN) to use the following CPU instructions in performance-critical operations:  SSE4.1 SSE4.2 AVX AVX2 FMA\n",
      "To enable them in other operations, rebuild TensorFlow with the appropriate compiler flags.\n"
     ]
    }
   ],
   "source": [
    "import numpy as np\n",
    "import scipy.stats\n",
    "from sklearn.model_selection import train_test_split, GroupShuffleSplit\n",
    "from sklearn.preprocessing import SplineTransformer, QuantileTransformer\n",
    "import tensorflow as tf\n",
    "import pickle\n",
    "import matplotlib\n",
    "import matplotlib.pyplot as plt\n",
    "import scipy.io\n",
    "%matplotlib inline"
   ]
  },
  {
   "cell_type": "code",
   "execution_count": 12,
   "metadata": {},
   "outputs": [],
   "source": [
    "behavior = scipy.io.loadmat('behav_big_matrix.mat')\n",
    "behavior = behavior['behav_big_matrix']\n",
    "\n",
    "behav_big_matrix_ids = scipy.io.loadmat('behav_big_matrix_ids.mat')\n",
    "behav_big_matrix_ids = behav_big_matrix_ids['behav_big_matrix_ids']\n",
    "\n",
    "array_trial_ids = scipy.io.loadmat('array_trial_ids.mat')\n",
    "array_trial_ids = array_trial_ids['array_trial_ids']\n",
    "\n",
    "neural_data = scipy.io.loadmat('combined_response.mat')\n",
    "neural_data = neural_data['combined_response']"
   ]
  },
  {
   "cell_type": "code",
   "execution_count": 16,
   "metadata": {},
   "outputs": [
    {
     "name": "stdout",
     "output_type": "stream",
     "text": [
      "Number of timepoints = 33192 \n",
      "Number of neurons = 38\n"
     ]
    }
   ],
   "source": [
    "# Check shape of neural activity (deconvolved)\n",
    "neural_data.shape\n",
    "print('Number of timepoints =', neural_data.shape[1], '\\nNumber of neurons =', neural_data.shape[0])"
   ]
  },
  {
   "cell_type": "code",
   "execution_count": null,
   "metadata": {},
   "outputs": [],
   "source": []
  }
 ],
 "metadata": {
  "kernelspec": {
   "display_name": "base",
   "language": "python",
   "name": "python3"
  },
  "language_info": {
   "codemirror_mode": {
    "name": "ipython",
    "version": 3
   },
   "file_extension": ".py",
   "mimetype": "text/x-python",
   "name": "python",
   "nbconvert_exporter": "python",
   "pygments_lexer": "ipython3",
   "version": "3.8.17"
  },
  "orig_nbformat": 4
 },
 "nbformat": 4,
 "nbformat_minor": 2
}
