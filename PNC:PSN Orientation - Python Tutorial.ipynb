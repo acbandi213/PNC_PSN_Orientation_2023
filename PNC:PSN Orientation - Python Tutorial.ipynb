{
 "cells": [
  {
   "cell_type": "markdown",
   "metadata": {},
   "source": [
    "# Introduction to Python\n",
    "Python is an easy to learn, powerful programming language. It has efficient high-level data structures and a simple but effective approach to object-oriented programming. Python’s elegant syntax and dynamic typing, together with its interpreted nature, make it an ideal language for scripting and rapid application development in many areas on most platforms.\n",
    "\n"
   ]
  },
  {
   "cell_type": "markdown",
   "metadata": {},
   "source": [
    "## Using Python as a calculator"
   ]
  },
  {
   "cell_type": "code",
   "execution_count": 2,
   "metadata": {},
   "outputs": [
    {
     "data": {
      "text/plain": [
       "4"
      ]
     },
     "execution_count": 2,
     "metadata": {},
     "output_type": "execute_result"
    }
   ],
   "source": [
    "2 + 2"
   ]
  },
  {
   "cell_type": "code",
   "execution_count": 3,
   "metadata": {},
   "outputs": [
    {
     "data": {
      "text/plain": [
       "1.6"
      ]
     },
     "execution_count": 3,
     "metadata": {},
     "output_type": "execute_result"
    }
   ],
   "source": [
    "8 / 5 # division always returns a floating point number"
   ]
  },
  {
   "cell_type": "code",
   "execution_count": 4,
   "metadata": {},
   "outputs": [
    {
     "data": {
      "text/plain": [
       "5"
      ]
     },
     "execution_count": 4,
     "metadata": {},
     "output_type": "execute_result"
    }
   ],
   "source": [
    "17 // 3  # floor division discards the fractional part"
   ]
  },
  {
   "cell_type": "code",
   "execution_count": 5,
   "metadata": {},
   "outputs": [
    {
     "data": {
      "text/plain": [
       "2"
      ]
     },
     "execution_count": 5,
     "metadata": {},
     "output_type": "execute_result"
    }
   ],
   "source": [
    "17 % 3  # the % operator returns the remainder of the division"
   ]
  },
  {
   "cell_type": "code",
   "execution_count": 6,
   "metadata": {},
   "outputs": [
    {
     "data": {
      "text/plain": [
       "25"
      ]
     },
     "execution_count": 6,
     "metadata": {},
     "output_type": "execute_result"
    }
   ],
   "source": [
    "5 ** 2  # 5 squared"
   ]
  },
  {
   "cell_type": "markdown",
   "metadata": {},
   "source": [
    "## Variables and Data Types\n",
    "In Python, variables are used to store data. A variable has a name and contains a value. Python supports multiple data types like integers, floats, strings, and booleans.\n"
   ]
  },
  {
   "cell_type": "code",
   "execution_count": 3,
   "metadata": {},
   "outputs": [
    {
     "name": "stdout",
     "output_type": "stream",
     "text": [
      "10\n",
      "20.5\n",
      "Neuroscience is cool!\n",
      "True\n"
     ]
    }
   ],
   "source": [
    "# Creating variables\n",
    "integer_variable = 10\n",
    "float_variable = 20.5\n",
    "string_variable = \"Neuroscience is cool!\"\n",
    "boolean_variable = True\n",
    "\n",
    "print(integer_variable)\n",
    "print(float_variable)\n",
    "print(string_variable)\n",
    "print(boolean_variable)"
   ]
  },
  {
   "cell_type": "markdown",
   "metadata": {},
   "source": [
    "## Lists\n",
    "Lists in Python are used to store multiple values. They are ordered, mutable, and can contain multiple data types.\n"
   ]
  },
  {
   "cell_type": "code",
   "execution_count": 4,
   "metadata": {},
   "outputs": [
    {
     "name": "stdout",
     "output_type": "stream",
     "text": [
      "[1, 2, 3, 'Brain', 4.5, True]\n",
      "Brain\n",
      "[1, 2, 3, 'Neuron', 4.5, True]\n"
     ]
    }
   ],
   "source": [
    "# Creating a list\n",
    "my_list = [1, 2, 3, \"Brain\", 4.5, True]\n",
    "print(my_list)\n",
    "\n",
    "# Accessing an element from the list\n",
    "print(my_list[3])\n",
    "\n",
    "# Modifying an element\n",
    "my_list[3] = \"Neuron\"\n",
    "print(my_list)"
   ]
  },
  {
   "cell_type": "markdown",
   "metadata": {},
   "source": [
    "## Conditional Statements\n",
    "Python supports conditional statements to make decisions in code."
   ]
  },
  {
   "cell_type": "code",
   "execution_count": 5,
   "metadata": {},
   "outputs": [
    {
     "name": "stdout",
     "output_type": "stream",
     "text": [
      "x is greater than 5\n"
     ]
    }
   ],
   "source": [
    "x = 10\n",
    "if x > 5:\n",
    "    print(\"x is greater than 5\")\n",
    "elif x == 5:\n",
    "    print(\"x is equal to 5\")\n",
    "else:\n",
    "    print(\"x is less than 5\")"
   ]
  },
  {
   "cell_type": "markdown",
   "metadata": {},
   "source": [
    "## Loops\n",
    "Loops in Python are used to repeat a block of code multiple times.\n"
   ]
  },
  {
   "cell_type": "code",
   "execution_count": 6,
   "metadata": {},
   "outputs": [
    {
     "name": "stdout",
     "output_type": "stream",
     "text": [
      "cortex\n",
      "hippocampus\n",
      "amygdala\n",
      "0\n",
      "1\n",
      "2\n",
      "3\n",
      "4\n"
     ]
    }
   ],
   "source": [
    "# Using a for loop to iterate over a list\n",
    "brain_regions = [\"cortex\", \"hippocampus\", \"amygdala\"]\n",
    "for regions in brain_regions:\n",
    "    print(regions)\n",
    "\n",
    "# Using a while loop\n",
    "count = 0\n",
    "while count < 5:\n",
    "    print(count)\n",
    "    count += 1"
   ]
  },
  {
   "cell_type": "markdown",
   "metadata": {},
   "source": [
    "## Functions\n",
    "Functions in Python are blocks of organized and reusable code that perform a specific task.\n"
   ]
  },
  {
   "cell_type": "code",
   "execution_count": 7,
   "metadata": {},
   "outputs": [
    {
     "name": "stdout",
     "output_type": "stream",
     "text": [
      "Hello, Alice!\n"
     ]
    }
   ],
   "source": [
    "# Defining a function\n",
    "def greet(name):\n",
    "    return f\"Hello, {name}!\"\n",
    "\n",
    "# Calling the function\n",
    "print(greet(\"Alice\"))\n"
   ]
  },
  {
   "cell_type": "markdown",
   "metadata": {},
   "source": [
    "# Introduction to Numpy\n",
    "`numpy` (Numerical Python) is one of the most fundamental packages for numerical \n",
    "computations in Python. It provides support for large multi-dimensional arrays and \n",
    "matrices, along with a collection of mathematical functions to operate on these arrays.\n"
   ]
  },
  {
   "cell_type": "code",
   "execution_count": 8,
   "metadata": {},
   "outputs": [],
   "source": [
    "# Importing numpy\n",
    "import numpy as np\n"
   ]
  },
  {
   "cell_type": "markdown",
   "metadata": {},
   "source": [
    "### Creating Arrays\n",
    "Numpy arrays can be created from Python lists or using built-in numpy functions.\n"
   ]
  },
  {
   "cell_type": "code",
   "execution_count": 9,
   "metadata": {},
   "outputs": [
    {
     "name": "stdout",
     "output_type": "stream",
     "text": [
      "[1 2 3 4 5]\n",
      "[0. 0. 0. 0. 0.]\n",
      "[1. 1. 1. 1. 1.]\n",
      "[0 1 2 3 4 5 6 7 8 9]\n"
     ]
    }
   ],
   "source": [
    "# Creating a numpy array from a Python list\n",
    "arr_from_list = np.array([1, 2, 3, 4, 5])\n",
    "print(arr_from_list)\n",
    "\n",
    "# Creating a numpy array using built-in functions\n",
    "zeros_arr = np.zeros(5) # Array of zeros\n",
    "ones_arr = np.ones(5) # Array of ones\n",
    "range_arr = np.arange(10) # Array of numbers from 0 to 9\n",
    "\n",
    "print(zeros_arr)\n",
    "print(ones_arr)\n",
    "print(range_arr)\n"
   ]
  },
  {
   "cell_type": "markdown",
   "metadata": {},
   "source": [
    "### Array Operations\n",
    "`numpy` supports a variety of operations on arrays.\n"
   ]
  },
  {
   "cell_type": "code",
   "execution_count": 10,
   "metadata": {},
   "outputs": [
    {
     "name": "stdout",
     "output_type": "stream",
     "text": [
      "[5 7 9]\n",
      "[-3 -3 -3]\n",
      "[ 4 10 18]\n",
      "[1.         1.41421356 1.73205081]\n"
     ]
    }
   ],
   "source": [
    "a = np.array([1, 2, 3])\n",
    "b = np.array([4, 5, 6])\n",
    "\n",
    "# Basic arithmetic operations\n",
    "print(a + b)\n",
    "print(a - b)\n",
    "print(a * b)\n",
    "\n",
    "# Mathematical operations\n",
    "print(np.sqrt(a))\n"
   ]
  },
  {
   "cell_type": "markdown",
   "metadata": {},
   "source": [
    "### Array Indexing and Slicing\n",
    "Arrays can be indexed and sliced, similar to Python lists.\n"
   ]
  },
  {
   "cell_type": "code",
   "execution_count": 11,
   "metadata": {},
   "outputs": [
    {
     "name": "stdout",
     "output_type": "stream",
     "text": [
      "5\n",
      "[2 3 4 5 6]\n"
     ]
    }
   ],
   "source": [
    "arr = np.array([0, 1, 2, 3, 4, 5, 6, 7, 8, 9])\n",
    "\n",
    "# Indexing\n",
    "print(arr[5])\n",
    "\n",
    "# Slicing\n",
    "print(arr[2:7])  # prints elements from index 2 to 6\n"
   ]
  },
  {
   "cell_type": "markdown",
   "metadata": {},
   "source": [
    "### Reshaping Arrays\n",
    "Arrays can be reshaped to change their structure.\n"
   ]
  },
  {
   "cell_type": "code",
   "execution_count": 12,
   "metadata": {},
   "outputs": [
    {
     "name": "stdout",
     "output_type": "stream",
     "text": [
      "[[0 1 2]\n",
      " [3 4 5]\n",
      " [6 7 8]]\n"
     ]
    }
   ],
   "source": [
    "matrix = np.arange(9).reshape(3, 3) # Reshape an array to a 3x3 matrix\n",
    "print(matrix)\n"
   ]
  },
  {
   "cell_type": "markdown",
   "metadata": {},
   "source": [
    "### Important Attributes of a Numpy Array\n",
    "\n",
    "Numpy arrays come with several attributes that describe their shape, size, and data.\n"
   ]
  },
  {
   "cell_type": "code",
   "execution_count": 13,
   "metadata": {},
   "outputs": [
    {
     "name": "stdout",
     "output_type": "stream",
     "text": [
      "Shape: (3, 3)\n",
      "Size: 9\n",
      "Data type: int64\n",
      "Number of dimensions: 2\n"
     ]
    }
   ],
   "source": [
    "arr = np.array([[1, 2, 3], [4, 5, 6], [7, 8, 9]])\n",
    "\n",
    "print(\"Shape:\", arr.shape)  # Shape of the array (rows, columns)\n",
    "print(\"Size:\", arr.size)    # Total number of elements in the array\n",
    "print(\"Data type:\", arr.dtype) # Data type of the array elements\n",
    "print(\"Number of dimensions:\", arr.ndim) # Number of dimensions (axes)\n"
   ]
  },
  {
   "cell_type": "markdown",
   "metadata": {},
   "source": [
    "### Special Arrays in Numpy\n",
    "\n",
    "Numpy provides functions to create arrays with specific properties.\n"
   ]
  },
  {
   "cell_type": "code",
   "execution_count": 14,
   "metadata": {},
   "outputs": [
    {
     "name": "stdout",
     "output_type": "stream",
     "text": [
      "Identity Matrix:\n",
      " [[1. 0. 0.]\n",
      " [0. 1. 0.]\n",
      " [0. 0. 1.]]\n",
      "\n",
      "Linspace Array: [ 0.   2.5  5.   7.5 10. ]\n",
      "\n",
      "Random Array:\n",
      " [[0.55926648 0.87316895 0.92093637]\n",
      " [0.97682197 0.54722686 0.25459742]\n",
      " [0.90291457 0.95407222 0.50610401]]\n"
     ]
    }
   ],
   "source": [
    "identity_matrix = np.eye(3)  # Identity matrix of size 3x3\n",
    "print(\"Identity Matrix:\\n\", identity_matrix)\n",
    "\n",
    "linspace_array = np.linspace(0, 10, 5)  # Linearly spaced array from 0 to 10 with 5 values\n",
    "print(\"\\nLinspace Array:\", linspace_array)\n",
    "\n",
    "random_array = np.random.rand(3, 3)  # Random numbers in a 3x3 matrix\n",
    "print(\"\\nRandom Array:\\n\", random_array)\n"
   ]
  },
  {
   "cell_type": "markdown",
   "metadata": {},
   "source": [
    "### Basic Array Manipulations\n",
    "\n",
    "This section discusses array manipulations such as stacking and splitting.\n"
   ]
  },
  {
   "cell_type": "code",
   "execution_count": 15,
   "metadata": {},
   "outputs": [
    {
     "name": "stdout",
     "output_type": "stream",
     "text": [
      "Horizontal Stacking: [1 2 3 4 5 6]\n",
      "\n",
      "Vertical Stacking:\n",
      " [[1 2 3]\n",
      " [4 5 6]]\n",
      "\n",
      "Split Arrays: [array([1, 2, 3]), array([4, 5, 6])]\n"
     ]
    }
   ],
   "source": [
    "# Horizontal and Vertical Stacking\n",
    "a = np.array([1, 2, 3])\n",
    "b = np.array([4, 5, 6])\n",
    "\n",
    "h_stack = np.hstack((a, b))  # Horizontal stacking\n",
    "print(\"Horizontal Stacking:\", h_stack)\n",
    "\n",
    "v_stack = np.vstack((a, b))  # Vertical stacking\n",
    "print(\"\\nVertical Stacking:\\n\", v_stack)\n",
    "\n",
    "# Splitting Arrays\n",
    "split_array = np.array([1, 2, 3, 4, 5, 6])\n",
    "arrays = np.split(split_array, 2)  # Split the array into 2 equal parts\n",
    "print(\"\\nSplit Arrays:\", arrays)\n"
   ]
  },
  {
   "cell_type": "markdown",
   "metadata": {},
   "source": [
    "### Basic Mathematical Functions\n",
    "\n",
    "Numpy provides various mathematical functions that can be applied element-wise on arrays.\n"
   ]
  },
  {
   "cell_type": "code",
   "execution_count": 16,
   "metadata": {},
   "outputs": [
    {
     "name": "stdout",
     "output_type": "stream",
     "text": [
      "Square Root: [1. 2. 3. 4. 5.]\n",
      "Exponential: [2.71828183e+00 5.45981500e+01 8.10308393e+03 8.88611052e+06\n",
      " 7.20048993e+10]\n",
      "Natural Log: [0.         1.38629436 2.19722458 2.77258872 3.21887582]\n",
      "Base 10 Log: [0.         0.60205999 0.95424251 1.20411998 1.39794001]\n"
     ]
    }
   ],
   "source": [
    "arr = np.array([1, 4, 9, 16, 25])\n",
    "\n",
    "print(\"Square Root:\", np.sqrt(arr))\n",
    "print(\"Exponential:\", np.exp(arr))\n",
    "print(\"Natural Log:\", np.log(arr))\n",
    "print(\"Base 10 Log:\", np.log10(arr))\n"
   ]
  },
  {
   "cell_type": "markdown",
   "metadata": {},
   "source": [
    "### Statistical Functions\n",
    "\n",
    "Statistical operations can be performed easily with numpy.\n"
   ]
  },
  {
   "cell_type": "code",
   "execution_count": 17,
   "metadata": {},
   "outputs": [
    {
     "name": "stdout",
     "output_type": "stream",
     "text": [
      "Mean: 3.0\n",
      "Median: 3.0\n",
      "Standard Deviation: 1.4142135623730951\n",
      "Variance: 2.0\n"
     ]
    }
   ],
   "source": [
    "data = np.array([1, 2, 3, 4, 5])\n",
    "\n",
    "print(\"Mean:\", np.mean(data))\n",
    "print(\"Median:\", np.median(data))\n",
    "print(\"Standard Deviation:\", np.std(data))\n",
    "print(\"Variance:\", np.var(data))\n"
   ]
  },
  {
   "cell_type": "markdown",
   "metadata": {},
   "source": []
  },
  {
   "cell_type": "markdown",
   "metadata": {},
   "source": [
    "# Introduction to Pandas\n",
    "\n",
    "`pandas` is a powerful open-source data analysis and data manipulation library built on top of Python. Its name is derived from the term \"panel data\", and it's key to data science projects in Python. With `pandas`, you can efficiently load, prepare, manipulate, and analyze your data.\n"
   ]
  },
  {
   "cell_type": "code",
   "execution_count": 19,
   "metadata": {},
   "outputs": [],
   "source": [
    "# Importing pandas\n",
    "import pandas as pd\n"
   ]
  },
  {
   "cell_type": "markdown",
   "metadata": {},
   "source": [
    "## Series and DataFrame\n",
    "\n",
    "The two primary data structures in `pandas` are the `Series` and `DataFrame`.\n",
    "- **Series**: A one-dimensional labeled array.\n",
    "- **DataFrame**: A two-dimensional labeled data structure with columns that can be of different types, similar to a spreadsheet.\n"
   ]
  },
  {
   "cell_type": "code",
   "execution_count": 20,
   "metadata": {},
   "outputs": [
    {
     "name": "stdout",
     "output_type": "stream",
     "text": [
      "0    1.0\n",
      "1    3.0\n",
      "2    5.0\n",
      "3    NaN\n",
      "4    6.0\n",
      "5    8.0\n",
      "dtype: float64\n",
      "\n",
      "    Brain_areas  Area_number          Cell_type\n",
      "0       cortex           28     Pyramidal cell\n",
      "1  hippocampus           22          Grid cell\n",
      "2     amygdala           32  Intercalated cell\n"
     ]
    }
   ],
   "source": [
    "# Creating a Series\n",
    "s = pd.Series([1, 3, 5, np.nan, 6, 8])\n",
    "print(s)\n",
    "\n",
    "# Creating a DataFrame\n",
    "data = {'Brain_areas': ['cortex', 'hippocampus', 'amygdala'],\n",
    "        'Area_number': [28, 22, 32],\n",
    "        'Cell_type': ['Pyramidal cell', 'Grid cell', 'Intercalated cell']}\n",
    "df = pd.DataFrame(data)\n",
    "print(\"\\n\", df)\n"
   ]
  },
  {
   "cell_type": "code",
   "execution_count": 21,
   "metadata": {},
   "outputs": [
    {
     "name": "stdout",
     "output_type": "stream",
     "text": [
      "   Brain_areas  Area_number          Cell_type\n",
      "0       cortex           28     Pyramidal cell\n",
      "1  hippocampus           22          Grid cell\n",
      "2     amygdala           32  Intercalated cell\n"
     ]
    }
   ],
   "source": [
    "# For demonstration purposes, let's write our DataFrame to a CSV and then read it back\n",
    "\n",
    "# Writing to a CSV file\n",
    "df.to_csv('sample_data.csv', index=False)\n",
    "\n",
    "# Reading from a CSV file\n",
    "df_from_csv = pd.read_csv('sample_data.csv')\n",
    "print(df_from_csv)\n"
   ]
  },
  {
   "cell_type": "markdown",
   "metadata": {},
   "source": [
    "## Data Exploration\n",
    "\n",
    "Once you have your data in a DataFrame, you can perform various operations to explore and get insights from it.\n"
   ]
  },
  {
   "cell_type": "code",
   "execution_count": 22,
   "metadata": {},
   "outputs": [
    {
     "name": "stdout",
     "output_type": "stream",
     "text": [
      "   Brain_areas  Area_number          Cell_type\n",
      "0       cortex           28     Pyramidal cell\n",
      "1  hippocampus           22          Grid cell\n",
      "2     amygdala           32  Intercalated cell\n",
      "\n",
      "        Area_number\n",
      "count     3.000000\n",
      "mean     27.333333\n",
      "std       5.033223\n",
      "min      22.000000\n",
      "25%      25.000000\n",
      "50%      28.000000\n",
      "75%      30.000000\n",
      "max      32.000000\n",
      "<class 'pandas.core.frame.DataFrame'>\n",
      "RangeIndex: 3 entries, 0 to 2\n",
      "Data columns (total 3 columns):\n",
      " #   Column       Non-Null Count  Dtype \n",
      "---  ------       --------------  ----- \n",
      " 0   Brain_areas  3 non-null      object\n",
      " 1   Area_number  3 non-null      int64 \n",
      " 2   Cell_type    3 non-null      object\n",
      "dtypes: int64(1), object(2)\n",
      "memory usage: 200.0+ bytes\n",
      "\n",
      " None\n"
     ]
    }
   ],
   "source": [
    "# Displaying the first 5 rows of the DataFrame\n",
    "print(df.head())\n",
    "\n",
    "# Displaying basic statistical details\n",
    "print(\"\\n\", df.describe())\n",
    "\n",
    "# Information about the DataFrame including data types and non-null values\n",
    "print(\"\\n\", df.info())\n"
   ]
  },
  {
   "cell_type": "markdown",
   "metadata": {},
   "source": [
    "## Data Manipulation\n",
    "\n",
    "`pandas` offers a variety of functionalities to manipulate your data.\n"
   ]
  },
  {
   "cell_type": "code",
   "execution_count": 23,
   "metadata": {},
   "outputs": [
    {
     "name": "stdout",
     "output_type": "stream",
     "text": [
      "   Brain_areas  Area_number          Cell_type Functionality\n",
      "0       cortex           28     Pyramidal cell     Cognition\n",
      "1  hippocampus           22          Grid cell        Memory\n",
      "2     amygdala           32  Intercalated cell       Emotion\n",
      "\n",
      "    Brain_areas  Area_number       Cell_type Functionality\n",
      "0       cortex           28  Pyramidal cell     Cognition\n",
      "1  hippocampus           22       Grid cell        Memory\n",
      "\n",
      "    Brain_areas  Area_number          Cell_type Functionality\n",
      "2     amygdala           32  Intercalated cell       Emotion\n",
      "0       cortex           28     Pyramidal cell     Cognition\n",
      "1  hippocampus           22          Grid cell        Memory\n"
     ]
    }
   ],
   "source": [
    "# Adding a new column\n",
    "df['Functionality'] = ['Cognition', 'Memory', 'Emotion']\n",
    "\n",
    "# Filtering data based on a condition\n",
    "cortical_regions = df[df['Area_number'] < 30]\n",
    "\n",
    "# Sorting data\n",
    "sorted_df = df.sort_values(by='Area_number', ascending=False)\n",
    "\n",
    "print(df)\n",
    "print(\"\\n\", cortical_regions)\n",
    "print(\"\\n\", sorted_df)\n"
   ]
  },
  {
   "cell_type": "markdown",
   "metadata": {},
   "source": [
    "## Grouping and Aggregating Data\n",
    "\n",
    "Grouping data based on certain criteria and then performing aggregate operations can give meaningful insights.\n"
   ]
  },
  {
   "cell_type": "code",
   "execution_count": 24,
   "metadata": {},
   "outputs": [
    {
     "name": "stdout",
     "output_type": "stream",
     "text": [
      "      Score\n",
      "Name       \n",
      "Anna   84.0\n",
      "John   85.0\n",
      "Mike   89.0\n",
      "\n",
      "               Score\n",
      "Name Subject       \n",
      "Anna English     78\n",
      "     Math        90\n",
      "John Math        85\n",
      "Mike English    180\n",
      "     Math        87\n"
     ]
    },
    {
     "name": "stderr",
     "output_type": "stream",
     "text": [
      "/var/folders/m7/5km6j0ys0gv5_w5twdjwk_280000gn/T/ipykernel_21398/423271331.py:9: FutureWarning: The default value of numeric_only in DataFrameGroupBy.mean is deprecated. In a future version, numeric_only will default to False. Either specify numeric_only or select only columns which should be valid for the function.\n",
      "  grouped = df.groupby('Name').mean()\n"
     ]
    }
   ],
   "source": [
    "# For demonstration, let's add more data to our DataFrame\n",
    "df = pd.DataFrame({\n",
    "    'Name': ['John', 'Anna', 'Mike', 'Anna', 'Mike', 'Mike'],\n",
    "    'Score': [85, 90, 87, 78, 88, 92],\n",
    "    'Subject': ['Math', 'Math', 'Math', 'English', 'English', 'English']\n",
    "})\n",
    "\n",
    "# Grouping by 'Name' and getting the mean score\n",
    "grouped = df.groupby('Name').mean()\n",
    "print(grouped)\n",
    "\n",
    "# Grouping by 'Name' and 'Subject' to get total score\n",
    "grouped_subject = df.groupby(['Name', 'Subject']).sum()\n",
    "print(\"\\n\", grouped_subject)\n"
   ]
  },
  {
   "cell_type": "markdown",
   "metadata": {},
   "source": [
    "# Introduction to Matplotlib\n",
    "\n",
    "`matplotlib` is a comprehensive plotting library for Python, enabling the creation of static, animated, and interactive visualizations. It's highly customizable and versatile, allowing you to produce plots and figures in a variety of styles and formats.\n"
   ]
  },
  {
   "cell_type": "code",
   "execution_count": 25,
   "metadata": {},
   "outputs": [],
   "source": [
    "# Importing matplotlib\n",
    "import matplotlib.pyplot as plt\n",
    "\n",
    "# To display plots directly in the Jupyter notebook\n",
    "%matplotlib inline \n"
   ]
  },
  {
   "cell_type": "markdown",
   "metadata": {},
   "source": []
  },
  {
   "cell_type": "markdown",
   "metadata": {},
   "source": [
    "## Basic Plotting with Matplotlib\n",
    "\n",
    "Let's start by plotting a simple line graph and a scatter plot.\n"
   ]
  },
  {
   "cell_type": "code",
   "execution_count": 31,
   "metadata": {},
   "outputs": [
    {
     "data": {
      "image/png": "[encoded data removed]",
      "text/plain": [
       "<Figure size 432x288 with 1 Axes>"
      ]
     },
     "metadata": {
      "needs_background": "light"
     },
     "output_type": "display_data"
    },
    {
     "data": {
      "image/png": "[encoded data removed]",
      "text/plain": [
       "<Figure size 432x288 with 1 Axes>"
      ]
     },
     "metadata": {
      "needs_background": "light"
     },
     "output_type": "display_data"
    }
   ],
   "source": [
    "# Line plot\n",
    "x = [1, 2, 3, 4, 5]\n",
    "y = [1, 4, 9, 16, 25]\n",
    "\n",
    "plt.plot(x, y)\n",
    "plt.title(\"Simple Line Plot\")\n",
    "plt.xlabel(\"X-axis\")\n",
    "plt.ylabel(\"Y-axis\")\n",
    "plt.grid(True)\n",
    "plt.show()\n",
    "\n",
    "# Scatter plot\n",
    "plt.scatter(x, y, color='red', marker='o')\n",
    "plt.title(\"Simple Scatter Plot\")\n",
    "plt.xlabel(\"X-axis\")\n",
    "plt.ylabel(\"Y-axis\")\n",
    "plt.grid(True)\n",
    "plt.show()\n"
   ]
  },
  {
   "cell_type": "markdown",
   "metadata": {},
   "source": [
    "## Customizing Plots\n",
    "\n",
    "`matplotlib` allows for extensive customization of plots, including colors, markers, line styles, and more.\n"
   ]
  },
  {
   "cell_type": "code",
   "execution_count": 32,
   "metadata": {},
   "outputs": [
    {
     "data": {
      "image/png": "[encoded data removed]",
      "text/plain": [
       "<Figure size 432x288 with 1 Axes>"
      ]
     },
     "metadata": {
      "needs_background": "light"
     },
     "output_type": "display_data"
    }
   ],
   "source": [
    "# Plot with customizations\n",
    "plt.plot(x, y, color='green', marker='o', linestyle='dashed', linewidth=2, markersize=8)\n",
    "\n",
    "plt.title(\"Customized Line Plot\")\n",
    "plt.xlabel(\"X-axis\")\n",
    "plt.ylabel(\"Y-axis\")\n",
    "plt.grid(True)\n",
    "plt.show()\n"
   ]
  },
  {
   "cell_type": "markdown",
   "metadata": {},
   "source": [
    "## Creating Multiple Plots\n",
    "\n",
    "We can create subplots to display multiple plots in a single figure.\n"
   ]
  },
  {
   "cell_type": "code",
   "execution_count": 33,
   "metadata": {},
   "outputs": [
    {
     "data": {
      "image/png": "[encoded data removed]",
      "text/plain": [
       "<Figure size 504x720 with 2 Axes>"
      ]
     },
     "metadata": {
      "needs_background": "light"
     },
     "output_type": "display_data"
    }
   ],
   "source": [
    "fig, axs = plt.subplots(2, 1, figsize=(7, 10))\n",
    "\n",
    "# First subplot\n",
    "axs[0].plot(x, y, 'b-')\n",
    "axs[0].set_title('First Subplot')\n",
    "axs[0].set_xlabel('X-axis')\n",
    "axs[0].set_ylabel('Y-axis')\n",
    "axs[0].grid(True)\n",
    "\n",
    "# Second subplot\n",
    "axs[1].scatter(x, y, color='red')\n",
    "axs[1].set_title('Second Subplot')\n",
    "axs[1].set_xlabel('X-axis')\n",
    "axs[1].set_ylabel('Y-axis')\n",
    "axs[1].grid(True)\n",
    "\n",
    "# Adjusting layout\n",
    "plt.tight_layout()\n",
    "plt.show()\n"
   ]
  },
  {
   "cell_type": "markdown",
   "metadata": {},
   "source": [
    "## Bar Charts and Histograms\n",
    "\n",
    "Bar charts and histograms are useful for visualizing categorical and frequency data, respectively.\n"
   ]
  },
  {
   "cell_type": "code",
   "execution_count": 34,
   "metadata": {},
   "outputs": [
    {
     "data": {
      "image/png": "[encoded data removed]",
      "text/plain": [
       "<Figure size 432x288 with 1 Axes>"
      ]
     },
     "metadata": {
      "needs_background": "light"
     },
     "output_type": "display_data"
    },
    {
     "data": {
      "image/png": "[encoded data removed]",
      "text/plain": [
       "<Figure size 432x288 with 1 Axes>"
      ]
     },
     "metadata": {
      "needs_background": "light"
     },
     "output_type": "display_data"
    }
   ],
   "source": [
    "# Bar chart\n",
    "categories = ['A', 'B', 'C', 'D']\n",
    "values = [50, 40, 70, 80]\n",
    "\n",
    "plt.bar(categories, values, color='blue', alpha=0.7)\n",
    "plt.title(\"Bar Chart\")\n",
    "plt.show()\n",
    "\n",
    "# Histogram\n",
    "data = [1, 1.1, 1.2, 1.3, 2.1, 2.2, 2.3, 2.4, 3, 3.1, 3.2, 3.8]\n",
    "plt.hist(data, bins=3, edgecolor='black', alpha=0.7)\n",
    "plt.title(\"Histogram\")\n",
    "plt.xlabel(\"Value Ranges\")\n",
    "plt.ylabel(\"Frequency\")\n",
    "plt.show()\n"
   ]
  },
  {
   "cell_type": "markdown",
   "metadata": {},
   "source": []
  },
  {
   "cell_type": "markdown",
   "metadata": {},
   "source": [
    "# Introduction to SciPy\n",
    "\n",
    "`SciPy` is an open-source software for mathematics, science, and engineering. It extends the capabilities of `NumPy` by adding a collection of algorithms and high-level commands for data manipulation and analysis. The library uses `NumPy` arrays as its basic data structure and inherits a host of `NumPy` functionalities.\n"
   ]
  },
  {
   "cell_type": "code",
   "execution_count": 35,
   "metadata": {},
   "outputs": [],
   "source": [
    "# Importing scipy\n",
    "import scipy\n"
   ]
  },
  {
   "cell_type": "markdown",
   "metadata": {},
   "source": [
    "## Subpackages in SciPy\n",
    "\n",
    "`SciPy` is organized into subpackages that cover different scientific computing domains. Some notable subpackages include:\n",
    "- **`scipy.stats`**: For statistics and probability functions.\n",
    "- **`scipy.integrate`**: For integration and ordinary differential equation solvers.\n",
    "- **`scipy.optimize`**: For function optimizers and root-finding algorithms.\n",
    "- **`scipy.signal`**: For signal processing.\n",
    "- **`scipy.linalg`**: For linear algebra operations.\n",
    "\n",
    "Let's explore a few of these in detail.\n"
   ]
  },
  {
   "cell_type": "markdown",
   "metadata": {},
   "source": [
    "### Statistics with `scipy.stats`\n",
    "\n",
    "This subpackage provides a large number of statistical distributions, statistical functions, and tests.\n"
   ]
  },
  {
   "cell_type": "code",
   "execution_count": 36,
   "metadata": {},
   "outputs": [
    {
     "name": "stdout",
     "output_type": "stream",
     "text": [
      "Mean: 0.0\n",
      "Variance: 1.0\n",
      "Skew: 0.0\n",
      "Kurtosis: 0.0\n",
      "\n",
      "T-statistic: 0.5\n",
      "P-value: 0.6305360755569764\n"
     ]
    }
   ],
   "source": [
    "from scipy import stats\n",
    "\n",
    "# Normal distribution\n",
    "mean, var, skew, kurt = stats.norm.stats(moments='mvsk')\n",
    "print(\"Mean:\", mean)\n",
    "print(\"Variance:\", var)\n",
    "print(\"Skew:\", skew)\n",
    "print(\"Kurtosis:\", kurt)\n",
    "\n",
    "# T-test\n",
    "data1 = [2, 4, 6, 8, 10]\n",
    "data2 = [1, 3, 5, 7, 9]\n",
    "t_stat, p_val = stats.ttest_ind(data1, data2)\n",
    "print(\"\\nT-statistic:\", t_stat)\n",
    "print(\"P-value:\", p_val)\n"
   ]
  },
  {
   "cell_type": "markdown",
   "metadata": {},
   "source": [
    "### Integration with `scipy.integrate`\n",
    "\n",
    "This subpackage provides several integration techniques including integration of continuous and discrete functions.\n"
   ]
  },
  {
   "cell_type": "code",
   "execution_count": 37,
   "metadata": {},
   "outputs": [
    {
     "name": "stdout",
     "output_type": "stream",
     "text": [
      "Integration result: 0.33333333333333337\n",
      "Error estimate: 3.700743415417189e-15\n"
     ]
    }
   ],
   "source": [
    "from scipy import integrate\n",
    "\n",
    "# Define a simple function\n",
    "f = lambda x: x**2\n",
    "\n",
    "# Integrate function f from 0 to 1\n",
    "integration_value, error_estimate = integrate.quad(f, 0, 1)\n",
    "print(\"Integration result:\", integration_value)\n",
    "print(\"Error estimate:\", error_estimate)\n"
   ]
  },
  {
   "cell_type": "markdown",
   "metadata": {},
   "source": [
    "### Optimization with `scipy.optimize`\n",
    "\n",
    "This subpackage provides algorithms for function minimization, root-finding, and more.\n"
   ]
  },
  {
   "cell_type": "code",
   "execution_count": 38,
   "metadata": {},
   "outputs": [
    {
     "name": "stdout",
     "output_type": "stream",
     "text": [
      "Minimum value: 8.881784197001252e-16\n",
      "At x = [1.41421357]\n"
     ]
    }
   ],
   "source": [
    "from scipy.optimize import minimize\n",
    "\n",
    "# Define a simple function\n",
    "f = lambda x: x**4 - 4*x**2 + 4\n",
    "\n",
    "# Minimize the function\n",
    "result = minimize(f, x0=0.5)  # starting from x=0.5\n",
    "print(\"Minimum value:\", result.fun)\n",
    "print(\"At x =\", result.x)\n"
   ]
  },
  {
   "cell_type": "markdown",
   "metadata": {},
   "source": [
    "### Signal Processing with `scipy.signal`\n",
    "\n",
    "`scipy.signal` provides tools for signal processing tasks such as filtering, spectral analysis, and waveforms generation. Let's explore a few functionalities.\n"
   ]
  },
  {
   "cell_type": "code",
   "execution_count": 39,
   "metadata": {},
   "outputs": [
    {
     "data": {
      "image/png": "[encoded data removed]",
      "text/plain": [
       "<Figure size 432x288 with 1 Axes>"
      ]
     },
     "metadata": {
      "needs_background": "light"
     },
     "output_type": "display_data"
    },
    {
     "data": {
      "image/png": "[encoded data removed]",
      "text/plain": [
       "<Figure size 432x288 with 1 Axes>"
      ]
     },
     "metadata": {
      "needs_background": "light"
     },
     "output_type": "display_data"
    }
   ],
   "source": [
    "from scipy.signal import butter, lfilter, freqz, chirp\n",
    "\n",
    "# Create a Butterworth lowpass filter\n",
    "b, a = butter(5, 0.25, btype='low')\n",
    "\n",
    "# Frequency response\n",
    "w, h = freqz(b, a)\n",
    "plt.plot(0.5 * w/np.pi, np.abs(h), 'b')\n",
    "plt.title('Butterworth filter frequency response')\n",
    "plt.xlabel('Frequency [normalized]')\n",
    "plt.ylabel('Amplitude')\n",
    "plt.grid()\n",
    "plt.show()\n",
    "\n",
    "# Apply filter to a chirp signal\n",
    "t = np.linspace(0, 1, 1000, endpoint=False)\n",
    "signal = chirp(t, f0=6, f1=1, t1=1, method='linear')\n",
    "filtered_signal = lfilter(b, a, signal)\n",
    "\n",
    "# Plotting\n",
    "plt.plot(t, signal, label='Original Signal')\n",
    "plt.plot(t, filtered_signal, 'r-', label='Filtered Signal')\n",
    "plt.title('Signal and Filtered Signal')\n",
    "plt.xlabel('Time [s]')\n",
    "plt.ylabel('Amplitude')\n",
    "plt.legend(loc='upper left')\n",
    "plt.grid()\n",
    "plt.show()\n"
   ]
  },
  {
   "cell_type": "markdown",
   "metadata": {},
   "source": [
    "### Linear Algebra with `scipy.linalg`\n",
    "\n",
    "`scipy.linalg` contains all the linear algebra functions found in `numpy.linalg` plus some more advanced ones not available in `numpy`. This makes `scipy.linalg` a more complete package for linear algebra tasks.\n"
   ]
  },
  {
   "cell_type": "code",
   "execution_count": 40,
   "metadata": {},
   "outputs": [
    {
     "name": "stdout",
     "output_type": "stream",
     "text": [
      "Determinant of A: -2.0\n",
      "\n",
      "Inverse of A:\n",
      "[[-2.   1. ]\n",
      " [ 1.5 -0.5]]\n",
      "\n",
      "Eigenvalues:\n",
      "[-0.37228132+0.j  5.37228132+0.j]\n",
      "Eigenvectors:\n",
      "[[-0.82456484 -0.41597356]\n",
      " [ 0.56576746 -0.90937671]]\n"
     ]
    }
   ],
   "source": [
    "from scipy import linalg\n",
    "\n",
    "# Define a matrix\n",
    "A = np.array([[1, 2], [3, 4]])\n",
    "\n",
    "# Compute the determinant\n",
    "det = linalg.det(A)\n",
    "print(f\"Determinant of A: {det}\")\n",
    "\n",
    "# Compute the inverse\n",
    "A_inv = linalg.inv(A)\n",
    "print(\"\\nInverse of A:\")\n",
    "print(A_inv)\n",
    "\n",
    "# Eigenvalues and eigenvectors\n",
    "eigenvalues, eigenvectors = linalg.eig(A)\n",
    "print(\"\\nEigenvalues:\")\n",
    "print(eigenvalues)\n",
    "print(\"Eigenvectors:\")\n",
    "print(eigenvectors)\n"
   ]
  },
  {
   "cell_type": "markdown",
   "metadata": {},
   "source": []
  },
  {
   "cell_type": "markdown",
   "metadata": {},
   "source": [
    "# Introduction to Scikit-learn\n",
    "\n",
    "`scikit-learn` is a machine learning library in Python. It provides simple and efficient tools for data mining and data analysis, built on `NumPy`, `SciPy`, and `matplotlib`. The library supports various supervised and unsupervised learning algorithms and is equipped with tools for model fitting, data preprocessing, model evaluation, and many other utilities.\n"
   ]
  },
  {
   "cell_type": "code",
   "execution_count": 2,
   "metadata": {},
   "outputs": [],
   "source": [
    "# Importing scikit-learn\n",
    "import sklearn"
   ]
  },
  {
   "cell_type": "markdown",
   "metadata": {},
   "source": [
    "## Basics of Scikit-learn\n",
    "\n",
    "The typical workflow when using `scikit-learn` includes:\n",
    "1. **Loading Data**: Can be done using libraries like `pandas` or datasets provided by `sklearn`.\n",
    "2. **Data Preprocessing**: Splitting data, feature scaling, encoding categorical variables.\n",
    "3. **Training a Model**: Choosing an algorithm and fitting it to the training data.\n",
    "4. **Evaluating the Model**: Using metrics to assess model performance on test data.\n",
    "5. **Model Deployment (optional)**: Deploying the model for predictions in a real-world environment.\n",
    "\n",
    "Let's explore a simple supervised learning task using `scikit-learn`.\n"
   ]
  },
  {
   "cell_type": "markdown",
   "metadata": {},
   "source": [
    "### Loading and Splitting Data\n",
    "\n",
    "For our example, we'll use the Iris dataset, a classic dataset in machine learning and statistics. It contains measurements for 150 iris flowers from three different species.\n"
   ]
  },
  {
   "cell_type": "code",
   "execution_count": 42,
   "metadata": {},
   "outputs": [],
   "source": [
    "from sklearn import datasets\n",
    "from sklearn.model_selection import train_test_split\n",
    "\n",
    "# Load the iris dataset\n",
    "iris = datasets.load_iris()\n",
    "X, y = iris.data, iris.target\n",
    "\n",
    "# Split the data into training and test sets\n",
    "X_train, X_test, y_train, y_test = train_test_split(X, y, test_size=0.3, random_state=42)\n"
   ]
  },
  {
   "cell_type": "markdown",
   "metadata": {},
   "source": [
    "### Training a Model\n",
    "\n",
    "Let's train a simple classifier, such as the k-nearest neighbors (k-NN) algorithm.\n"
   ]
  },
  {
   "cell_type": "code",
   "execution_count": 43,
   "metadata": {},
   "outputs": [
    {
     "data": {
      "text/plain": [
       "KNeighborsClassifier(n_neighbors=3)"
      ]
     },
     "execution_count": 43,
     "metadata": {},
     "output_type": "execute_result"
    }
   ],
   "source": [
    "from sklearn.neighbors import KNeighborsClassifier\n",
    "\n",
    "# Initialize the model with k=3\n",
    "knn = KNeighborsClassifier(n_neighbors=3)\n",
    "\n",
    "# Train the model\n",
    "knn.fit(X_train, y_train)\n"
   ]
  },
  {
   "cell_type": "markdown",
   "metadata": {},
   "source": [
    "### Evaluating the Model\n",
    "\n",
    "Once our model is trained, we evaluate its performance on the test data.\n"
   ]
  },
  {
   "cell_type": "code",
   "execution_count": 44,
   "metadata": {},
   "outputs": [
    {
     "name": "stdout",
     "output_type": "stream",
     "text": [
      "Accuracy of k-NN classifier: 1.00\n"
     ]
    }
   ],
   "source": [
    "from sklearn.metrics import accuracy_score\n",
    "\n",
    "# Predicting the test set results\n",
    "y_pred = knn.predict(X_test)\n",
    "\n",
    "# Calculating accuracy\n",
    "accuracy = accuracy_score(y_test, y_pred)\n",
    "print(f\"Accuracy of k-NN classifier: {accuracy:.2f}\")\n"
   ]
  },
  {
   "cell_type": "markdown",
   "metadata": {},
   "source": []
  },
  {
   "cell_type": "markdown",
   "metadata": {},
   "source": [
    "# (Gentle) Introduction to TensorFlow\n",
    "\n",
    "TensorFlow is an open-source library used for a variety of tasks, but it's mainly known for its capabilities in machine learning and deep learning. With its flexible architecture, TensorFlow enables developers to deploy computation across different platforms, including desktops, servers, and mobile devices.\n",
    "\n",
    "TensorFlow provides high-level APIs like Keras, making it easy to build and train models for both beginners and experts. Its computational graph abstraction allows for powerful parallel processing and is especially beneficial for gradient-based optimization, a common method used in training deep learning models.\n"
   ]
  },
  {
   "cell_type": "code",
   "execution_count": 1,
   "metadata": {},
   "outputs": [
    {
     "name": "stderr",
     "output_type": "stream",
     "text": [
      "2023-08-18 11:05:14.472844: I tensorflow/core/platform/cpu_feature_guard.cc:193] This TensorFlow binary is optimized with oneAPI Deep Neural Network Library (oneDNN) to use the following CPU instructions in performance-critical operations:  SSE4.1 SSE4.2 AVX AVX2 FMA\n",
      "To enable them in other operations, rebuild TensorFlow with the appropriate compiler flags.\n"
     ]
    },
    {
     "name": "stdout",
     "output_type": "stream",
     "text": [
      "2.10.0\n"
     ]
    }
   ],
   "source": [
    "# Importing TensorFlow\n",
    "import tensorflow as tf\n",
    "\n",
    "# Checking the version\n",
    "print(tf.__version__)\n"
   ]
  },
  {
   "cell_type": "markdown",
   "metadata": {},
   "source": [
    "## Core Concepts of TensorFlow\n",
    "\n",
    "### Tensors\n",
    "\n",
    "In TensorFlow, data is represented as tensors. A tensor is a generalization of vectors and matrices, and it can be thought of as a multi-dimensional array.\n",
    "\n",
    "### Computational Graphs\n",
    "\n",
    "TensorFlow programs often revolve around building and executing a computational graph. This graph consists of nodes (representing operations) and edges (representing tensors that flow between operations).\n",
    "\n",
    "### Eager Execution\n",
    "\n",
    "With TensorFlow's eager execution, you can evaluate operations immediately without building a graph. This makes it easier to debug and get started, but it can be less efficient for production deployment.\n",
    "\n",
    "Let's look into some basic functionalities.\n"
   ]
  },
  {
   "cell_type": "code",
   "execution_count": 4,
   "metadata": {},
   "outputs": [
    {
     "name": "stdout",
     "output_type": "stream",
     "text": [
      "Addition: [6 8]\n",
      "Multiplication: [ 8 15]\n"
     ]
    }
   ],
   "source": [
    "# Defining a constant tensor\n",
    "a = tf.constant([2, 3])\n",
    "b = tf.constant([4, 5])\n",
    "\n",
    "# Basic operations with tensors\n",
    "addition = tf.add(a, b)\n",
    "multiplication = tf.multiply(a, b)\n",
    "\n",
    "print(\"Addition:\", addition.numpy())\n",
    "print(\"Multiplication:\", multiplication.numpy())\n"
   ]
  },
  {
   "cell_type": "markdown",
   "metadata": {},
   "source": [
    "## Building and Training Neural Networks with TensorFlow\n",
    "\n",
    "TensorFlow provides Keras, a high-level API to build and train deep learning models. Here's a basic example of building a feedforward neural network.\n"
   ]
  },
  {
   "cell_type": "code",
   "execution_count": 47,
   "metadata": {},
   "outputs": [
    {
     "name": "stdout",
     "output_type": "stream",
     "text": [
      "Downloading data from https://storage.googleapis.com/tensorflow/tf-keras-datasets/mnist.npz\n",
      "11490434/11490434 [==============================] - 1s 0us/step\n",
      "Epoch 1/5\n",
      "1875/1875 [==============================] - 5s 2ms/step - loss: 0.3025 - accuracy: 0.9123\n",
      "Epoch 2/5\n",
      "1875/1875 [==============================] - 3s 2ms/step - loss: 0.1457 - accuracy: 0.9569\n",
      "Epoch 3/5\n",
      "1875/1875 [==============================] - 3s 2ms/step - loss: 0.1085 - accuracy: 0.9677\n",
      "Epoch 4/5\n",
      "1875/1875 [==============================] - 4s 2ms/step - loss: 0.0875 - accuracy: 0.9739\n",
      "Epoch 5/5\n",
      "1875/1875 [==============================] - 4s 2ms/step - loss: 0.0762 - accuracy: 0.9763\n",
      "313/313 [==============================] - 1s 1ms/step - loss: 0.0788 - accuracy: 0.9746\n",
      "Test accuracy: 0.9746000170707703\n"
     ]
    }
   ],
   "source": [
    "# Loading the MNIST dataset\n",
    "mnist = tf.keras.datasets.mnist\n",
    "(X_train, y_train), (X_test, y_test) = mnist.load_data()\n",
    "\n",
    "# Normalizing the data\n",
    "X_train, X_test = X_train / 255.0, X_test / 255.0\n",
    "\n",
    "# Building the model\n",
    "model = tf.keras.models.Sequential([\n",
    "    tf.keras.layers.Flatten(input_shape=(28, 28)),\n",
    "    tf.keras.layers.Dense(128, activation='relu'),\n",
    "    tf.keras.layers.Dropout(0.2),\n",
    "    tf.keras.layers.Dense(10, activation='softmax')\n",
    "])\n",
    "\n",
    "# Compiling the model\n",
    "model.compile(optimizer='adam',\n",
    "              loss='sparse_categorical_crossentropy',\n",
    "              metrics=['accuracy'])\n",
    "\n",
    "# Training the model\n",
    "model.fit(X_train, y_train, epochs=5)\n",
    "\n",
    "# Evaluating the model\n",
    "test_loss, test_acc = model.evaluate(X_test, y_test)\n",
    "print(f\"Test accuracy: {test_acc}\")\n"
   ]
  },
  {
   "cell_type": "markdown",
   "metadata": {},
   "source": []
  }
 ],
 "metadata": {
  "kernelspec": {
   "display_name": "base",
   "language": "python",
   "name": "python3"
  },
  "language_info": {
   "codemirror_mode": {
    "name": "ipython",
    "version": 3
   },
   "file_extension": ".py",
   "mimetype": "text/x-python",
   "name": "python",
   "nbconvert_exporter": "python",
   "pygments_lexer": "ipython3",
   "version": "3.8.17"
  },
  "orig_nbformat": 4
 },
 "nbformat": 4,
 "nbformat_minor": 2
}
